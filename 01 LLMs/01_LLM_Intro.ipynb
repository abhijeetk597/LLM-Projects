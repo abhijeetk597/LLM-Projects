{
 "cells": [
  {
   "cell_type": "markdown",
   "id": "327556de-f2b6-415b-83d9-a9f7fdb738d1",
   "metadata": {},
   "source": [
    "# 01 Intro to Langchain and LLM"
   ]
  },
  {
   "cell_type": "code",
   "execution_count": 15,
   "id": "5c899e7e-61af-4229-8889-5653f29262c6",
   "metadata": {},
   "outputs": [],
   "source": [
    "import os\n",
    "os.environ[\"OPENAI_API_KEY\"] = \"**key**\""
   ]
  },
  {
   "cell_type": "markdown",
   "id": "c00eeb21-afb7-45d1-9178-b129cd639273",
   "metadata": {},
   "source": [
    "### Proprietory LLM from Open AI"
   ]
  },
  {
   "cell_type": "code",
   "execution_count": 7,
   "id": "50123905-bd99-4871-b185-06886d2423f6",
   "metadata": {},
   "outputs": [],
   "source": [
    "# import Langchain-openAI integration package\n",
    "\n",
    "from langchain_openai import OpenAI"
   ]
  },
  {
   "cell_type": "code",
   "execution_count": 8,
   "id": "1c86a253-c412-49cb-9a16-8add88ce3a8e",
   "metadata": {},
   "outputs": [],
   "source": [
    "# Instantiate a language model object\n",
    "\n",
    "llm = OpenAI(model_name=\"gpt-3.5-turbo-instruct\")"
   ]
  },
  {
   "cell_type": "code",
   "execution_count": 9,
   "id": "e62cc50e-a656-470d-91ae-9991903b6220",
   "metadata": {},
   "outputs": [
    {
     "name": "stdout",
     "output_type": "stream",
     "text": [
      "\n",
      "The main programming language in data science is Python.\n"
     ]
    }
   ],
   "source": [
    "our_query = \"What is the main programming language in Data Science?\"\n",
    "\n",
    "response = llm.invoke(our_query)\n",
    "\n",
    "print(response)"
   ]
  },
  {
   "cell_type": "markdown",
   "id": "fdf8eac2-2a14-4264-8215-80680232115d",
   "metadata": {},
   "source": [
    "### Open-source LLM hosted on HuggingFace"
   ]
  },
  {
   "cell_type": "code",
   "execution_count": 17,
   "id": "d794824d-bf00-44a4-a8c3-4450ed6cd35e",
   "metadata": {},
   "outputs": [],
   "source": [
    "os.environ[\"HUGGINGFACEHUB_API_TOKEN\"] = \"**key**\""
   ]
  },
  {
   "cell_type": "code",
   "execution_count": 20,
   "id": "19afb989-1787-476c-8074-d64e7c7d96c9",
   "metadata": {},
   "outputs": [
    {
     "name": "stdout",
     "output_type": "stream",
     "text": [
      "Token has not been saved to git credential helper. Pass `add_to_git_credential=True` if you want to set the git credential as well.\n",
      "Token is valid (permission: read).\n",
      "Your token has been saved to C:\\Users\\abhirav\\.cache\\huggingface\\token\n",
      "Login successful\n"
     ]
    }
   ],
   "source": [
    "# import HuggingFace Endpoint package from langchain llms module\n",
    "\n",
    "from langchain.llms import HuggingFaceEndpoint\n",
    "\n",
    "# instantiate a language model\n",
    "\n",
    "llm = HuggingFaceEndpoint(repo_id = \"google/flan-t5-xxl\")\n",
    "\n",
    "# our query\n",
    "our_query = \"What is the main programming language in Data Science?\"\n",
    "\n",
    "response = llm.invoke(our_query)"
   ]
  },
  {
   "cell_type": "code",
   "execution_count": 21,
   "id": "a8572a04-233b-44f1-9a42-bb2b8b81da51",
   "metadata": {},
   "outputs": [
    {
     "name": "stdout",
     "output_type": "stream",
     "text": [
      "Python\n"
     ]
    }
   ],
   "source": [
    "# print response\n",
    "print(response)"
   ]
  }
 ],
 "metadata": {
  "kernelspec": {
   "display_name": "Python 3 (ipykernel)",
   "language": "python",
   "name": "python3"
  },
  "language_info": {
   "codemirror_mode": {
    "name": "ipython",
    "version": 3
   },
   "file_extension": ".py",
   "mimetype": "text/x-python",
   "name": "python",
   "nbconvert_exporter": "python",
   "pygments_lexer": "ipython3",
   "version": "3.11.5"
  }
 },
 "nbformat": 4,
 "nbformat_minor": 5
}
